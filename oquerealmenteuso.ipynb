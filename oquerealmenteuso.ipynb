{
 "cells": [
  {
   "cell_type": "code",
   "execution_count": 1,
   "id": "a43f22ef",
   "metadata": {},
   "outputs": [
    {
     "name": "stdout",
     "output_type": "stream",
     "text": [
      "  sigla_uf  id_municipio  situacao  ano_atendimento           concessionaria  \\\n",
      "0       AC       1200054  Atendido           2011.0  BRASILTELECOM FILIAL/AC   \n",
      "1       AC       1200328  Atendido           2011.0  BRASILTELECOM FILIAL/AC   \n",
      "2       AC       1200435  Atendido           2011.0  BRASILTELECOM FILIAL/AC   \n",
      "3       AM       1300102  Atendido           2018.0               TELEMAR/AM   \n",
      "4       AM       1300607  Atendido           2011.0               TELEMAR/AM   \n",
      "\n",
      "  tecnologia  capacidade_backhaul  capacidade_ocupada  capacidade_disponivel  \n",
      "0   Satélite                  2.0                 2.0                    0.0  \n",
      "1   Satélite                  2.0                 1.0                    1.0  \n",
      "2   Satélite                  2.0                 1.0                    1.0  \n",
      "3   Satélite                  4.0                 2.0                    2.0  \n",
      "4   Satélite                  4.0                 2.0                    2.0  \n"
     ]
    }
   ],
   "source": [
    "import pandas as pd\n",
    "df = pd.read_csv('br_anatel_banda_larga_fixa_backhaul.csv/br_anatel_banda_larga_fixa_backhaul.csv')\n",
    "print(df.head()) "
   ]
  },
  {
   "cell_type": "code",
   "execution_count": 2,
   "id": "87c3a677",
   "metadata": {},
   "outputs": [
    {
     "name": "stdout",
     "output_type": "stream",
     "text": [
      "O município 1200054 aparece 1 vezes.\n"
     ]
    }
   ],
   "source": [
    "contagem = (df['id_municipio'] == 1200054).sum()\n",
    "\n",
    "print(f\"O município 1200054 aparece {contagem} vezes.\")"
   ]
  }
 ],
 "metadata": {
  "kernelspec": {
   "display_name": "Python 3 (ipykernel)",
   "language": "python",
   "name": "python3"
  },
  "language_info": {
   "codemirror_mode": {
    "name": "ipython",
    "version": 3
   },
   "file_extension": ".py",
   "mimetype": "text/x-python",
   "name": "python",
   "nbconvert_exporter": "python",
   "pygments_lexer": "ipython3",
   "version": "3.12.1"
  }
 },
 "nbformat": 4,
 "nbformat_minor": 5
}
